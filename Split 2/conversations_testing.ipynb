{
 "cells": [
  {
   "cell_type": "code",
   "execution_count": 3,
   "metadata": {},
   "outputs": [
    {
     "name": "stdout",
     "output_type": "stream",
     "text": [
      "          user_id replied_tweet_id       tweet_creation_time\n",
      "tweet_id                                                    \n",
      "1         airline             None 2023-05-01 10:00:00+00:00\n",
      "2          user_a                1 2023-05-01 10:05:00+00:00\n",
      "3         airline                2 2023-05-01 10:10:00+00:00\n",
      "4          user_a                3 2023-05-01 10:15:00+00:00\n"
     ]
    },
    {
     "name": "stderr",
     "output_type": "stream",
     "text": [
      "Extracting all conversations: 100%|██████████| 3/3 [00:00<?, ?it/s]\n"
     ]
    },
    {
     "name": "stdout",
     "output_type": "stream",
     "text": [
      "'1. Simple Conversation Between User and Airline' passed.\n",
      "\n",
      "          user_id replied_tweet_id       tweet_creation_time\n",
      "tweet_id                                                    \n",
      "1          user_a             None 2023-05-01 11:00:00+00:00\n",
      "2         airline                1 2023-05-01 11:05:00+00:00\n",
      "3          user_a                2 2023-05-01 11:10:00+00:00\n"
     ]
    },
    {
     "name": "stderr",
     "output_type": "stream",
     "text": [
      "Extracting all conversations: 100%|██████████| 2/2 [00:00<00:00, 1971.93it/s]\n"
     ]
    },
    {
     "name": "stdout",
     "output_type": "stream",
     "text": [
      "'2. User-Initiated Conversation' passed.\n",
      "\n",
      "          user_id replied_tweet_id       tweet_creation_time\n",
      "tweet_id                                                    \n",
      "1          user_a             None 2023-05-01 12:00:00+00:00\n",
      "2         airline                1 2023-05-01 12:05:00+00:00\n",
      "3          user_b                2 2023-05-01 12:10:00+00:00\n",
      "4         airline                3 2023-05-01 12:15:00+00:00\n"
     ]
    },
    {
     "name": "stderr",
     "output_type": "stream",
     "text": [
      "Extracting all conversations: 100%|██████████| 3/3 [00:00<?, ?it/s]\n"
     ]
    },
    {
     "name": "stdout",
     "output_type": "stream",
     "text": [
      "'3. More Than Two Users Involved' passed.\n",
      "\n",
      "          user_id replied_tweet_id       tweet_creation_time\n",
      "tweet_id                                                    \n",
      "1         airline             None 2023-05-01 13:00:00+00:00\n",
      "2          user_a                1 2023-05-01 13:05:00+00:00\n",
      "3         airline                2 2023-05-01 13:10:00+00:00\n",
      "4          user_a                3 2023-05-01 13:15:00+00:00\n",
      "5          user_b                2 2023-05-01 13:20:00+00:00\n"
     ]
    },
    {
     "name": "stderr",
     "output_type": "stream",
     "text": [
      "Extracting all conversations: 100%|██████████| 4/4 [00:00<?, ?it/s]\n"
     ]
    },
    {
     "name": "stdout",
     "output_type": "stream",
     "text": [
      "'4. Conversation Branches Out' passed.\n",
      "\n",
      "          user_id replied_tweet_id       tweet_creation_time\n",
      "tweet_id                                                    \n",
      "1         airline             None 2023-05-01 14:00:00+00:00\n",
      "2          user_a                1 2023-05-01 14:05:00+00:00\n"
     ]
    },
    {
     "name": "stderr",
     "output_type": "stream",
     "text": [
      "Extracting all conversations: 100%|██████████| 1/1 [00:00<?, ?it/s]\n"
     ]
    },
    {
     "name": "stdout",
     "output_type": "stream",
     "text": [
      "'5. Non-Reply Initial Tweet by Airline' passed.\n",
      "\n",
      "          user_id replied_tweet_id       tweet_creation_time\n",
      "tweet_id                                                    \n",
      "1          user_a             None 2023-05-01 15:00:00+00:00\n",
      "2         airline                1 2023-05-01 15:05:00+00:00\n"
     ]
    },
    {
     "name": "stderr",
     "output_type": "stream",
     "text": [
      "Extracting all conversations: 100%|██████████| 1/1 [00:00<?, ?it/s]\n"
     ]
    },
    {
     "name": "stdout",
     "output_type": "stream",
     "text": [
      "'6. Non-Reply Initial Tweet by User' passed.\n",
      "\n",
      "         user_id replied_tweet_id       tweet_creation_time\n",
      "tweet_id                                                   \n",
      "1         user_a             None 2023-05-01 17:00:00+00:00\n",
      "2         user_a                1 2023-05-01 17:05:00+00:00\n",
      "3         user_a                2 2023-05-01 17:10:00+00:00\n"
     ]
    },
    {
     "name": "stderr",
     "output_type": "stream",
     "text": [
      "Extracting all conversations: 100%|██████████| 2/2 [00:00<?, ?it/s]\n"
     ]
    },
    {
     "name": "stdout",
     "output_type": "stream",
     "text": [
      "'8. Same User Replies to Themselves' passed.\n",
      "\n",
      "          user_id replied_tweet_id       tweet_creation_time\n",
      "tweet_id                                                    \n",
      "3          user_a             None 2023-05-01 18:00:00+00:00\n",
      "1         airline                3 2023-05-01 18:05:00+00:00\n",
      "2          user_a                1 2023-05-01 18:10:00+00:00\n"
     ]
    },
    {
     "name": "stderr",
     "output_type": "stream",
     "text": [
      "Extracting all conversations: 100%|██████████| 2/2 [00:00<?, ?it/s]\n"
     ]
    },
    {
     "name": "stdout",
     "output_type": "stream",
     "text": [
      "'9. Mixed Order of Tweets' passed.\n",
      "\n",
      "          user_id replied_tweet_id       tweet_creation_time\n",
      "tweet_id                                                    \n",
      "1         airline             None 2023-05-01 19:00:00+00:00\n",
      "2          user_a                1 2023-05-01 19:05:00+00:00\n",
      "3         airline             None 2023-05-01 19:10:00+00:00\n",
      "4          user_b                3 2023-05-01 19:15:00+00:00\n",
      "5         airline             None 2023-05-01 19:20:00+00:00\n",
      "6          user_a                5 2023-05-01 19:25:00+00:00\n"
     ]
    },
    {
     "name": "stderr",
     "output_type": "stream",
     "text": [
      "Extracting all conversations: 100%|██████████| 3/3 [00:00<?, ?it/s]\n"
     ]
    },
    {
     "name": "stdout",
     "output_type": "stream",
     "text": [
      "'10. Multiple Independent Conversations' passed.\n",
      "\n",
      "          user_id replied_tweet_id       tweet_creation_time\n",
      "tweet_id                                                    \n",
      "1         airline             None 2023-05-01 20:00:00+00:00\n",
      "2          user_a                1 2023-05-01 20:05:00+00:00\n",
      "3         airline                2 2023-05-01 20:10:00+00:00\n",
      "4          user_a                3 2023-05-01 20:15:00+00:00\n"
     ]
    },
    {
     "name": "stderr",
     "output_type": "stream",
     "text": [
      "Extracting all conversations: 100%|██████████| 3/3 [00:00<?, ?it/s]"
     ]
    },
    {
     "name": "stdout",
     "output_type": "stream",
     "text": [
      "'11. Nested Replies' passed.\n",
      "\n",
      "All tests passed!\n"
     ]
    },
    {
     "name": "stderr",
     "output_type": "stream",
     "text": [
      "\n"
     ]
    }
   ],
   "source": [
    "import pandas as pd\n",
    "from tqdm import tqdm\n",
    "from collections import defaultdict\n",
    "\n",
    "class TrieNode:\n",
    "    def __init__(self):\n",
    "        self.children = defaultdict(TrieNode)\n",
    "        self.is_end = False\n",
    "\n",
    "class Trie:\n",
    "    def __init__(self):\n",
    "        self.root = TrieNode()\n",
    "\n",
    "    def insert(self, conversation):\n",
    "        node = self.root\n",
    "        for tweet_id in conversation:\n",
    "            node = node.children[tweet_id]\n",
    "        node.is_end = True\n",
    "\n",
    "    def is_subset(self, conversation):\n",
    "        node = self.root\n",
    "        for tweet_id in conversation:\n",
    "            if tweet_id not in node.children:\n",
    "                return False\n",
    "            node = node.children[tweet_id]\n",
    "        return True\n",
    "\n",
    "def trace_conversation(start_tweet_id: str, tweet_dict: dict):\n",
    "    convo = []\n",
    "    current_tweet_id = start_tweet_id\n",
    "    users_in_conversation = set()\n",
    "    local_processed_tweet_ids = set()  # Local set to track the current conversation\n",
    "    while current_tweet_id:\n",
    "        if current_tweet_id not in tweet_dict or current_tweet_id in local_processed_tweet_ids:\n",
    "            break\n",
    "        tweet_info = tweet_dict[current_tweet_id]\n",
    "        convo.append(current_tweet_id)\n",
    "        users_in_conversation.add(tweet_info['user_id'])\n",
    "        local_processed_tweet_ids.add(current_tweet_id)\n",
    "        if len(users_in_conversation) > 2:\n",
    "            return convo[:-1][::-1]  # As soon as the third user appears, we delete his tweet and return\n",
    "        current_tweet_id = tweet_info['replied_tweet_id']\n",
    "    return convo[::-1] if len(users_in_conversation) == 2 else None\n",
    "\n",
    "def extract_and_filter_conversations(df: pd.DataFrame):\n",
    "    df = df.sort_values(\"tweet_creation_time\", ascending=False)\n",
    "    df.index = df.index.astype(str)\n",
    "    tweet_dict = df.to_dict('index')\n",
    "    conversations = []\n",
    "    trie = Trie()  # Initialize trie for subset checks\n",
    "\n",
    "    # Start tracing conversations from tweets that are replies\n",
    "    for tweet_id in tqdm(df[df['replied_tweet_id'].notnull()].index, desc=\"Extracting all conversations\"):\n",
    "        if conversation := trace_conversation(tweet_id, tweet_dict):\n",
    "            if not trie.is_subset(conversation):\n",
    "                trie.insert(conversation)\n",
    "                conversations.append(conversation)\n",
    "\n",
    "    return conversations\n",
    "\n",
    "# Define the test data\n",
    "test_cases = [\n",
    "    {\n",
    "        'name': '1. Simple Conversation Between User and Airline',\n",
    "        'data': {\n",
    "            'tweet_id': ['1', '2', '3', '4'],\n",
    "            'user_id': ['airline', 'user_a', 'airline', 'user_a'],\n",
    "            'replied_tweet_id': [None, '1', '2', '3'],\n",
    "            'tweet_creation_time': ['2023-05-01T10:00:00Z', '2023-05-01T10:05:00Z', '2023-05-01T10:10:00Z', '2023-05-01T10:15:00Z']\n",
    "        },\n",
    "        'expected': [['1', '2', '3', '4']]\n",
    "    },\n",
    "    {\n",
    "        'name': '2. User-Initiated Conversation',\n",
    "        'data': {\n",
    "            'tweet_id': ['1', '2', '3'],\n",
    "            'user_id': ['user_a', 'airline', 'user_a'],\n",
    "            'replied_tweet_id': [None, '1', '2'],\n",
    "            'tweet_creation_time': ['2023-05-01T11:00:00Z', '2023-05-01T11:05:00Z', '2023-05-01T11:10:00Z']\n",
    "        },\n",
    "        'expected': [['1', '2', '3']]\n",
    "    },\n",
    "    {\n",
    "        'name': '3. More Than Two Users Involved',\n",
    "        'data': {\n",
    "            'tweet_id': ['1', '2', '3', '4'],\n",
    "            'user_id': ['user_a', 'airline', 'user_b', 'airline'],\n",
    "            'replied_tweet_id': [None, '1', '2', '3'],\n",
    "            'tweet_creation_time': ['2023-05-01T12:00:00Z', '2023-05-01T12:05:00Z', '2023-05-01T12:10:00Z', '2023-05-01T12:15:00Z']\n",
    "        },\n",
    "        'expected': [['1', '2'], ['2', '3', '4']]\n",
    "    },\n",
    "    {\n",
    "        'name': '4. Conversation Branches Out',\n",
    "        'data': {\n",
    "            'tweet_id': ['1', '2', '3', '4', '5'],\n",
    "            'user_id': ['airline', 'user_a', 'airline', 'user_a', 'user_b'],\n",
    "            'replied_tweet_id': [None, '1', '2', '3', '2'],\n",
    "            'tweet_creation_time': ['2023-05-01T13:00:00Z', '2023-05-01T13:05:00Z',\n",
    "                                    '2023-05-01T13:10:00Z', '2023-05-01T13:15:00Z', '2023-05-01T13:20:00Z']\n",
    "        },\n",
    "        'expected': [['2', '5'], ['1', '2', '3', '4']]\n",
    "    },\n",
    "    {\n",
    "        'name': '5. Non-Reply Initial Tweet by Airline',\n",
    "        'data': {\n",
    "            'tweet_id': ['1', '2'],\n",
    "            'user_id': ['airline', 'user_a'],\n",
    "            'replied_tweet_id': [None, '1'],\n",
    "            'tweet_creation_time': ['2023-05-01T14:00:00Z', '2023-05-01T14:05:00Z']\n",
    "        },\n",
    "        'expected': [['1', '2']]\n",
    "    },\n",
    "    {\n",
    "        'name': '6. Non-Reply Initial Tweet by User',\n",
    "        'data': {\n",
    "            'tweet_id': ['1', '2'],\n",
    "            'user_id': ['user_a', 'airline'],\n",
    "            'replied_tweet_id': [None, '1'],\n",
    "            'tweet_creation_time': ['2023-05-01T15:00:00Z', '2023-05-01T15:05:00Z']\n",
    "        },\n",
    "        'expected': [['1', '2']]\n",
    "    },\n",
    "    # Might be helpful for future, but duplicate tweet_id is impossible\n",
    "    # {\n",
    "    #     'name': '7. Conversation with Duplicate Tweets',\n",
    "    #     'data': {\n",
    "    #         'tweet_id': ['1', '2', '3', '2'],\n",
    "    #         'user_id': ['airline', 'user_a', 'airline', 'user_a'],\n",
    "    #         'replied_tweet_id': [None, '1', '2', '3'],\n",
    "    #         'tweet_creation_time': ['2023-05-01T16:00:00Z', '2023-05-01T16:05:00Z', '2023-05-01T16:10:00Z', '2023-05-01T16:15:00Z']\n",
    "    #     },\n",
    "    #     'expected': [['1', '2', '3', '2']]\n",
    "    # },\n",
    "    {\n",
    "        'name': '8. Same User Replies to Themselves',\n",
    "        'data': {\n",
    "            'tweet_id': ['1', '2', '3'],\n",
    "            'user_id': ['user_a', 'user_a', 'user_a'],\n",
    "            'replied_tweet_id': [None, '1', '2'],\n",
    "            'tweet_creation_time': ['2023-05-01T17:00:00Z', '2023-05-01T17:05:00Z', '2023-05-01T17:10:00Z']\n",
    "        },\n",
    "        'expected': []\n",
    "    },\n",
    "    {\n",
    "        'name': '9. Mixed Order of Tweets',\n",
    "        'data': {\n",
    "            'tweet_id': ['3', '1', '2'],\n",
    "            'user_id': ['user_a', 'airline', 'user_a'],\n",
    "            'replied_tweet_id': [None, '3', '1'],\n",
    "            'tweet_creation_time': ['2023-05-01T18:00:00Z', '2023-05-01T18:05:00Z', '2023-05-01T18:10:00Z']\n",
    "        },\n",
    "        'expected': [['3', '1', '2']]\n",
    "    },\n",
    "    {\n",
    "        'name': '10. Multiple Independent Conversations',\n",
    "        'data': {\n",
    "            'tweet_id': ['1', '2', '3', '4', '5', '6'],\n",
    "            'user_id': ['airline', 'user_a', 'airline', 'user_b', 'airline', 'user_a'],\n",
    "            'replied_tweet_id': [None, '1', None, '3', None, '5'],\n",
    "            'tweet_creation_time': ['2023-05-01T19:00:00Z', '2023-05-01T19:05:00Z', '2023-05-01T19:10:00Z', \n",
    "                                    '2023-05-01T19:15:00Z', '2023-05-01T19:20:00Z', '2023-05-01T19:25:00Z']\n",
    "        },\n",
    "        'expected': [['1', '2'], ['3', '4'], ['5', '6']]\n",
    "    },\n",
    "    {\n",
    "        'name': '11. Nested Replies',\n",
    "        'data': {\n",
    "            'tweet_id': ['1', '2', '3', '4'],\n",
    "            'user_id': ['airline', 'user_a', 'airline', 'user_a'],\n",
    "            'replied_tweet_id': [None, '1', '2', '3'],\n",
    "            'tweet_creation_time': ['2023-05-01T20:00:00Z', '2023-05-01T20:05:00Z', '2023-05-01T20:10:00Z', '2023-05-01T20:15:00Z']\n",
    "        },\n",
    "        'expected': [['1', '2', '3', '4']]\n",
    "    },\n",
    "]\n",
    "\n",
    "# Run the test cases\n",
    "for test_case in test_cases:\n",
    "    df = pd.DataFrame(test_case['data']).set_index('tweet_id')\n",
    "    df[\"tweet_creation_time\"] = pd.to_datetime(df[\"tweet_creation_time\"])\n",
    "    print(df)\n",
    "    result = extract_and_filter_conversations(df)\n",
    "    assert sorted(result) == sorted(test_case['expected']), f\"'{test_case['name']}' failed: expected {test_case['expected']}, got {result}\"\n",
    "    print(f\"'{test_case['name']}' passed.\")\n",
    "    print()\n",
    "print(\"All tests passed!\")"
   ]
  }
 ],
 "metadata": {
  "kernelspec": {
   "display_name": "Python 3",
   "language": "python",
   "name": "python3"
  },
  "language_info": {
   "codemirror_mode": {
    "name": "ipython",
    "version": 3
   },
   "file_extension": ".py",
   "mimetype": "text/x-python",
   "name": "python",
   "nbconvert_exporter": "python",
   "pygments_lexer": "ipython3",
   "version": "3.12.3"
  }
 },
 "nbformat": 4,
 "nbformat_minor": 2
}
