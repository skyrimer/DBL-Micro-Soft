{
 "cells": [
  {
   "cell_type": "code",
   "execution_count": 15,
   "metadata": {},
   "outputs": [
    {
     "name": "stderr",
     "output_type": "stream",
     "text": [
      "Extracting all conversations: 100%|██████████| 3/3 [00:00<?, ?it/s]\n"
     ]
    },
    {
     "name": "stdout",
     "output_type": "stream",
     "text": [
      "Test case 'Simple Conversation Between User and Airline' passed.\n"
     ]
    },
    {
     "name": "stderr",
     "output_type": "stream",
     "text": [
      "Extracting all conversations: 100%|██████████| 2/2 [00:00<?, ?it/s]\n"
     ]
    },
    {
     "name": "stdout",
     "output_type": "stream",
     "text": [
      "Test case 'User-Initiated Conversation' passed.\n"
     ]
    },
    {
     "name": "stderr",
     "output_type": "stream",
     "text": [
      "Extracting all conversations: 100%|██████████| 3/3 [00:00<?, ?it/s]\n"
     ]
    },
    {
     "ename": "AssertionError",
     "evalue": "Test case 'More Than Two Users Involved' failed: expected [[1, 2], [2, 3, 4]], got [[1, 2]]",
     "output_type": "error",
     "traceback": [
      "\u001b[1;31m---------------------------------------------------------------------------\u001b[0m",
      "\u001b[1;31mAssertionError\u001b[0m                            Traceback (most recent call last)",
      "Cell \u001b[1;32mIn[15], line 140\u001b[0m\n\u001b[0;32m    138\u001b[0m df \u001b[38;5;241m=\u001b[39m pd\u001b[38;5;241m.\u001b[39mDataFrame(test_case[\u001b[38;5;124m'\u001b[39m\u001b[38;5;124mdata\u001b[39m\u001b[38;5;124m'\u001b[39m])\u001b[38;5;241m.\u001b[39mset_index(\u001b[38;5;124m'\u001b[39m\u001b[38;5;124mtweet_id\u001b[39m\u001b[38;5;124m'\u001b[39m)\n\u001b[0;32m    139\u001b[0m result \u001b[38;5;241m=\u001b[39m extract_and_filter_conversations(df)\n\u001b[1;32m--> 140\u001b[0m \u001b[38;5;28;01massert\u001b[39;00m result \u001b[38;5;241m==\u001b[39m test_case[\u001b[38;5;124m'\u001b[39m\u001b[38;5;124mexpected\u001b[39m\u001b[38;5;124m'\u001b[39m], \u001b[38;5;124mf\u001b[39m\u001b[38;5;124m\"\u001b[39m\u001b[38;5;124mTest case \u001b[39m\u001b[38;5;124m'\u001b[39m\u001b[38;5;132;01m{\u001b[39;00mtest_case[\u001b[38;5;124m'\u001b[39m\u001b[38;5;124mname\u001b[39m\u001b[38;5;124m'\u001b[39m]\u001b[38;5;132;01m}\u001b[39;00m\u001b[38;5;124m'\u001b[39m\u001b[38;5;124m failed: expected \u001b[39m\u001b[38;5;132;01m{\u001b[39;00mtest_case[\u001b[38;5;124m'\u001b[39m\u001b[38;5;124mexpected\u001b[39m\u001b[38;5;124m'\u001b[39m]\u001b[38;5;132;01m}\u001b[39;00m\u001b[38;5;124m, got \u001b[39m\u001b[38;5;132;01m{\u001b[39;00mresult\u001b[38;5;132;01m}\u001b[39;00m\u001b[38;5;124m\"\u001b[39m\n\u001b[0;32m    141\u001b[0m \u001b[38;5;28mprint\u001b[39m(\u001b[38;5;124mf\u001b[39m\u001b[38;5;124m\"\u001b[39m\u001b[38;5;124mTest case \u001b[39m\u001b[38;5;124m'\u001b[39m\u001b[38;5;132;01m{\u001b[39;00mtest_case[\u001b[38;5;124m'\u001b[39m\u001b[38;5;124mname\u001b[39m\u001b[38;5;124m'\u001b[39m]\u001b[38;5;132;01m}\u001b[39;00m\u001b[38;5;124m'\u001b[39m\u001b[38;5;124m passed.\u001b[39m\u001b[38;5;124m\"\u001b[39m)\n",
      "\u001b[1;31mAssertionError\u001b[0m: Test case 'More Than Two Users Involved' failed: expected [[1, 2], [2, 3, 4]], got [[1, 2]]"
     ]
    }
   ],
   "source": [
    "import pandas as pd\n",
    "from tqdm import tqdm\n",
    "from collections import defaultdict\n",
    "\n",
    "class TrieNode:\n",
    "    def __init__(self):\n",
    "        self.children = defaultdict(TrieNode)\n",
    "        self.is_end = False\n",
    "\n",
    "class Trie:\n",
    "    def __init__(self):\n",
    "        self.root = TrieNode()\n",
    "\n",
    "    def insert(self, conversation):\n",
    "        node = self.root\n",
    "        for tweet_id in conversation:\n",
    "            node = node.children[tweet_id]\n",
    "        node.is_end = True\n",
    "\n",
    "    def is_subset(self, conversation):\n",
    "        node = self.root\n",
    "        for tweet_id in conversation:\n",
    "            if tweet_id not in node.children:\n",
    "                return False\n",
    "            node = node.children[tweet_id]\n",
    "        return node.is_end\n",
    "\n",
    "def trace_conversation(start_tweet_id, tweet_dict):\n",
    "    convo = []\n",
    "    current_tweet_id = start_tweet_id\n",
    "    users_in_conversation = set()\n",
    "    local_processed_tweet_ids = set()  # Local set to track the current conversation\n",
    "    while current_tweet_id:\n",
    "        if current_tweet_id not in tweet_dict or current_tweet_id in local_processed_tweet_ids:\n",
    "            break\n",
    "        tweet_info = tweet_dict[current_tweet_id]\n",
    "        convo.append(current_tweet_id)\n",
    "        users_in_conversation.add(tweet_info['user_id'])\n",
    "        local_processed_tweet_ids.add(current_tweet_id)\n",
    "        if len(users_in_conversation) > 2:\n",
    "            return None  # More than two users, not an exclusive conversation\n",
    "        current_tweet_id = tweet_info['replied_tweet_id']\n",
    "    return convo[::-1] if len(users_in_conversation) == 2 else None\n",
    "\n",
    "def extract_and_filter_conversations(df):\n",
    "    df.index = df.index.astype(int)  # Ensure tweet_id is treated as an integer\n",
    "    df['replied_tweet_id'] = df['replied_tweet_id'].astype('Int64')  # Ensure replied_tweet_id is treated as an integer\n",
    "    tweet_dict = df.to_dict('index')\n",
    "    conversations = []\n",
    "    longest_conversations = []\n",
    "\n",
    "    # Start tracing conversations from tweets that are replies\n",
    "    for tweet_id in tqdm(df[df['replied_tweet_id'].notnull()].index, desc=\"Extracting all conversations\"):\n",
    "        if conversation := trace_conversation(tweet_id, tweet_dict):\n",
    "            longest = True\n",
    "            for existing_convo in longest_conversations[:]:\n",
    "                if set(conversation).issubset(set(existing_convo)):\n",
    "                    longest = False\n",
    "                    break\n",
    "                elif set(existing_convo).issubset(set(conversation)):\n",
    "                    longest_conversations.remove(existing_convo)\n",
    "            if longest:\n",
    "                longest_conversations.append(conversation)\n",
    "\n",
    "    longest_conversations.sort(key=len, reverse=True)\n",
    "\n",
    "    return longest_conversations\n",
    "\n",
    "# Define the test data\n",
    "test_cases = [\n",
    "    {\n",
    "        'name': 'Simple Conversation Between User and Airline',\n",
    "        'data': {\n",
    "            'tweet_id': [1, 2, 3, 4],\n",
    "            'user_id': ['airline', 'user_a', 'airline', 'user_a'],\n",
    "            'replied_tweet_id': [None, 1, 2, 3]\n",
    "        },\n",
    "        'expected': [[1, 2, 3, 4]]\n",
    "    },\n",
    "    {\n",
    "        'name': 'User-Initiated Conversation',\n",
    "        'data': {\n",
    "            'tweet_id': [1, 2, 3],\n",
    "            'user_id': ['user_a', 'airline', 'user_a'],\n",
    "            'replied_tweet_id': [None, 1, 2]\n",
    "        },\n",
    "        'expected': [[1, 2, 3]]\n",
    "    },\n",
    "    {\n",
    "        'name': 'More Than Two Users Involved',\n",
    "        'data': {\n",
    "            'tweet_id': [1, 2, 3, 4],\n",
    "            'user_id': ['user_a', 'airline', 'user_b', 'airline'],\n",
    "            'replied_tweet_id': [None, 1, 2, 3]\n",
    "        },\n",
    "        'expected': [[1, 2], [2, 3, 4]]\n",
    "    },\n",
    "    {\n",
    "        'name': 'Conversation Branches Out',\n",
    "        'data': {\n",
    "            'tweet_id': [1, 2, 3, 4, 5],\n",
    "            'user_id': ['airline', 'user_a', 'airline', 'user_a', 'user_b'],\n",
    "            'replied_tweet_id': [None, 1, 2, 3, 2]\n",
    "        },\n",
    "        'expected': []\n",
    "    },\n",
    "    {\n",
    "        'name': 'Non-Reply Initial Tweet by Airline',\n",
    "        'data': {\n",
    "            'tweet_id': [1, 2],\n",
    "            'user_id': ['airline', 'user_a'],\n",
    "            'replied_tweet_id': [None, 1]\n",
    "        },\n",
    "        'expected': [[1, 2]]\n",
    "    },\n",
    "    {\n",
    "        'name': 'Non-Reply Initial Tweet by User',\n",
    "        'data': {\n",
    "            'tweet_id': [1, 2],\n",
    "            'user_id': ['user_a', 'airline'],\n",
    "            'replied_tweet_id': [None, 1]\n",
    "        },\n",
    "        'expected': [[1, 2]]\n",
    "    },\n",
    "    {\n",
    "        'name': 'Conversation with Duplicate Tweets',\n",
    "        'data': {\n",
    "            'tweet_id': [1, 2, 3, 2],\n",
    "            'user_id': ['airline', 'user_a', 'airline', 'user_a'],\n",
    "            'replied_tweet_id': [None, 1, 2, 3]\n",
    "        },\n",
    "        'expected': [[1, 2, 3, 2]]\n",
    "    }\n",
    "]\n",
    "\n",
    "# Run the test cases\n",
    "for test_case in test_cases:\n",
    "    df = pd.DataFrame(test_case['data']).set_index('tweet_id')\n",
    "    result = extract_and_filter_conversations(df)\n",
    "    assert result == test_case['expected'], f\"Test case '{test_case['name']}' failed: expected {test_case['expected']}, got {result}\"\n",
    "    print(f\"Test case '{test_case['name']}' passed.\")\n"
   ]
  },
  {
   "cell_type": "code",
   "execution_count": null,
   "metadata": {},
   "outputs": [],
   "source": []
  }
 ],
 "metadata": {
  "kernelspec": {
   "display_name": "Python 3",
   "language": "python",
   "name": "python3"
  },
  "language_info": {
   "codemirror_mode": {
    "name": "ipython",
    "version": 3
   },
   "file_extension": ".py",
   "mimetype": "text/x-python",
   "name": "python",
   "nbconvert_exporter": "python",
   "pygments_lexer": "ipython3",
   "version": "3.12.3"
  }
 },
 "nbformat": 4,
 "nbformat_minor": 2
}
