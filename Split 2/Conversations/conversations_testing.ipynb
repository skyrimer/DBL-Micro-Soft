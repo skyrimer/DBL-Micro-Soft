{
 "cells": [
  {
   "cell_type": "code",
   "execution_count": 1,
   "metadata": {},
   "outputs": [],
   "source": [
    "import pandas as pd\n",
    "from conversation_algorithm import extract_conversations"
   ]
  },
  {
   "cell_type": "code",
   "execution_count": 2,
   "metadata": {},
   "outputs": [],
   "source": [
    "test_cases = [\n",
    "    {\n",
    "        'name': '1. Simple Conversation Between User and Airline',\n",
    "        'data': {\n",
    "            'tweet_id': ['1', '2', '3', '4'],\n",
    "            'user_id': ['airline', 'user_a', 'airline', 'user_a'],\n",
    "            'replied_tweet_id': [None, '1', '2', '3'],\n",
    "            'tweet_creation_time': ['2023-05-01T10:00:00Z', '2023-05-01T10:05:00Z', '2023-05-01T10:10:00Z', '2023-05-01T10:15:00Z']\n",
    "        },\n",
    "        'expected': [['1', '2', '3', '4']]\n",
    "    },\n",
    "    {\n",
    "        'name': '2. User-Initiated Conversation',\n",
    "        'data': {\n",
    "            'tweet_id': ['1', '2', '3'],\n",
    "            'user_id': ['user_a', 'airline', 'user_a'],\n",
    "            'replied_tweet_id': [None, '1', '2'],\n",
    "            'tweet_creation_time': ['2023-05-01T11:00:00Z', '2023-05-01T11:05:00Z', '2023-05-01T11:10:00Z']\n",
    "        },\n",
    "        'expected': [['1', '2', '3']]\n",
    "    },\n",
    "    {\n",
    "        'name': '3. More Than Two Users Involved',\n",
    "        'data': {\n",
    "            'tweet_id': ['1', '2', '3', '4'],\n",
    "            'user_id': ['user_a', 'airline', 'user_b', 'airline'],\n",
    "            'replied_tweet_id': [None, '1', '2', '3'],\n",
    "            'tweet_creation_time': ['2023-05-01T12:00:00Z', '2023-05-01T12:05:00Z', '2023-05-01T12:10:00Z', '2023-05-01T12:15:00Z']\n",
    "        },\n",
    "        'expected': [['1', '2'], ['2', '3', '4']]\n",
    "    },\n",
    "    {\n",
    "        'name': '4. Conversation Branches Out',\n",
    "        'data': {\n",
    "            'tweet_id': ['1', '2', '3', '4', '5'],\n",
    "            'user_id': ['airline', 'user_a', 'airline', 'user_a', 'user_b'],\n",
    "            'replied_tweet_id': [None, '1', '2', '3', '2'],\n",
    "            'tweet_creation_time': ['2023-05-01T13:00:00Z', '2023-05-01T13:05:00Z',\n",
    "                                    '2023-05-01T13:10:00Z', '2023-05-01T13:15:00Z', '2023-05-01T13:20:00Z']\n",
    "        },\n",
    "        'expected': [['2', '5'], ['1', '2', '3', '4']]\n",
    "    },\n",
    "    {\n",
    "        'name': '5. Non-Reply Initial Tweet by Airline',\n",
    "        'data': {\n",
    "            'tweet_id': ['1', '2'],\n",
    "            'user_id': ['airline', 'user_a'],\n",
    "            'replied_tweet_id': [None, '1'],\n",
    "            'tweet_creation_time': ['2023-05-01T14:00:00Z', '2023-05-01T14:05:00Z']\n",
    "        },\n",
    "        'expected': [['1', '2']]\n",
    "    },\n",
    "    {\n",
    "        'name': '6. Non-Reply Initial Tweet by User',\n",
    "        'data': {\n",
    "            'tweet_id': ['1', '2'],\n",
    "            'user_id': ['user_a', 'airline'],\n",
    "            'replied_tweet_id': [None, '1'],\n",
    "            'tweet_creation_time': ['2023-05-01T15:00:00Z', '2023-05-01T15:05:00Z']\n",
    "        },\n",
    "        'expected': [['1', '2']]\n",
    "    },\n",
    "    {\n",
    "        'name': '8. Same User Replies to Themselves',\n",
    "        'data': {\n",
    "            'tweet_id': ['1', '2', '3'],\n",
    "            'user_id': ['user_a', 'user_a', 'user_a'],\n",
    "            'replied_tweet_id': [None, '1', '2'],\n",
    "            'tweet_creation_time': ['2023-05-01T17:00:00Z', '2023-05-01T17:05:00Z', '2023-05-01T17:10:00Z']\n",
    "        },\n",
    "        'expected': []\n",
    "    },\n",
    "    {\n",
    "        'name': '9. Mixed Order of Tweets',\n",
    "        'data': {\n",
    "            'tweet_id': ['3', '1', '2'],\n",
    "            'user_id': ['user_a', 'airline', 'user_a'],\n",
    "            'replied_tweet_id': [None, '3', '1'],\n",
    "            'tweet_creation_time': ['2023-05-01T18:00:00Z', '2023-05-01T18:05:00Z', '2023-05-01T18:10:00Z']\n",
    "        },\n",
    "        'expected': [['3', '1', '2']]\n",
    "    },\n",
    "    {\n",
    "        'name': '10. Multiple Independent Conversations',\n",
    "        'data': {\n",
    "            'tweet_id': ['1', '2', '3', '4', '5', '6'],\n",
    "            'user_id': ['airline', 'user_a', 'airline', 'user_b', 'airline', 'user_a'],\n",
    "            'replied_tweet_id': [None, '1', None, '3', None, '5'],\n",
    "            'tweet_creation_time': ['2023-05-01T19:00:00Z', '2023-05-01T19:05:00Z', '2023-05-01T19:10:00Z', \n",
    "                                    '2023-05-01T19:15:00Z', '2023-05-01T19:20:00Z', '2023-05-01T19:25:00Z']\n",
    "        },\n",
    "        'expected': [['1', '2'], ['3', '4'], ['5', '6']]\n",
    "    },\n",
    "    {\n",
    "        'name': '11. Nested Replies',\n",
    "        'data': {\n",
    "            'tweet_id': ['1', '2', '3', '4'],\n",
    "            'user_id': ['airline', 'user_a', 'airline', 'user_a'],\n",
    "            'replied_tweet_id': [None, '1', '2', '3'],\n",
    "            'tweet_creation_time': ['2023-05-01T20:00:00Z', '2023-05-01T20:05:00Z', '2023-05-01T20:10:00Z', '2023-05-01T20:15:00Z']\n",
    "        },\n",
    "        'expected': [['1', '2', '3', '4']]\n",
    "    },\n",
    "]"
   ]
  },
  {
   "cell_type": "code",
   "execution_count": 4,
   "metadata": {},
   "outputs": [
    {
     "data": {
      "application/vnd.jupyter.widget-view+json": {
       "model_id": "3e60c202427242e9b67e729f39b15cdd",
       "version_major": 2,
       "version_minor": 0
      },
      "text/plain": [
       "Extracting all conversations:   0%|          | 0/3 [00:00<?, ?it/s]"
      ]
     },
     "metadata": {},
     "output_type": "display_data"
    },
    {
     "name": "stdout",
     "output_type": "stream",
     "text": [
      "'1. Simple Conversation Between User and Airline' passed.\n",
      "\n"
     ]
    },
    {
     "data": {
      "application/vnd.jupyter.widget-view+json": {
       "model_id": "3be8e100227b40babb5f660ecdce9d13",
       "version_major": 2,
       "version_minor": 0
      },
      "text/plain": [
       "Extracting all conversations:   0%|          | 0/2 [00:00<?, ?it/s]"
      ]
     },
     "metadata": {},
     "output_type": "display_data"
    },
    {
     "name": "stdout",
     "output_type": "stream",
     "text": [
      "'2. User-Initiated Conversation' passed.\n",
      "\n"
     ]
    },
    {
     "data": {
      "application/vnd.jupyter.widget-view+json": {
       "model_id": "10f39e556ac1488cb3a5659962848c15",
       "version_major": 2,
       "version_minor": 0
      },
      "text/plain": [
       "Extracting all conversations:   0%|          | 0/3 [00:00<?, ?it/s]"
      ]
     },
     "metadata": {},
     "output_type": "display_data"
    },
    {
     "name": "stdout",
     "output_type": "stream",
     "text": [
      "'3. More Than Two Users Involved' passed.\n",
      "\n"
     ]
    },
    {
     "data": {
      "application/vnd.jupyter.widget-view+json": {
       "model_id": "21a75aa97df24f11b032ba31f3aaec67",
       "version_major": 2,
       "version_minor": 0
      },
      "text/plain": [
       "Extracting all conversations:   0%|          | 0/4 [00:00<?, ?it/s]"
      ]
     },
     "metadata": {},
     "output_type": "display_data"
    },
    {
     "name": "stdout",
     "output_type": "stream",
     "text": [
      "'4. Conversation Branches Out' passed.\n",
      "\n"
     ]
    },
    {
     "data": {
      "application/vnd.jupyter.widget-view+json": {
       "model_id": "0f3c6ecf1e294f2ba0714685a91f6b81",
       "version_major": 2,
       "version_minor": 0
      },
      "text/plain": [
       "Extracting all conversations:   0%|          | 0/1 [00:00<?, ?it/s]"
      ]
     },
     "metadata": {},
     "output_type": "display_data"
    },
    {
     "name": "stdout",
     "output_type": "stream",
     "text": [
      "'5. Non-Reply Initial Tweet by Airline' passed.\n",
      "\n"
     ]
    },
    {
     "data": {
      "application/vnd.jupyter.widget-view+json": {
       "model_id": "c69e2b782e634797806951630a7dcfa4",
       "version_major": 2,
       "version_minor": 0
      },
      "text/plain": [
       "Extracting all conversations:   0%|          | 0/1 [00:00<?, ?it/s]"
      ]
     },
     "metadata": {},
     "output_type": "display_data"
    },
    {
     "name": "stdout",
     "output_type": "stream",
     "text": [
      "'6. Non-Reply Initial Tweet by User' passed.\n",
      "\n"
     ]
    },
    {
     "data": {
      "application/vnd.jupyter.widget-view+json": {
       "model_id": "1aaee0a002754722a82c873b859cdfc1",
       "version_major": 2,
       "version_minor": 0
      },
      "text/plain": [
       "Extracting all conversations:   0%|          | 0/2 [00:00<?, ?it/s]"
      ]
     },
     "metadata": {},
     "output_type": "display_data"
    },
    {
     "name": "stdout",
     "output_type": "stream",
     "text": [
      "'8. Same User Replies to Themselves' passed.\n",
      "\n"
     ]
    },
    {
     "data": {
      "application/vnd.jupyter.widget-view+json": {
       "model_id": "75b311549d83465aa90385ae911ef6e9",
       "version_major": 2,
       "version_minor": 0
      },
      "text/plain": [
       "Extracting all conversations:   0%|          | 0/2 [00:00<?, ?it/s]"
      ]
     },
     "metadata": {},
     "output_type": "display_data"
    },
    {
     "name": "stdout",
     "output_type": "stream",
     "text": [
      "'9. Mixed Order of Tweets' passed.\n",
      "\n"
     ]
    },
    {
     "data": {
      "application/vnd.jupyter.widget-view+json": {
       "model_id": "769374b3493143ebbf55f6ea73e7c9a3",
       "version_major": 2,
       "version_minor": 0
      },
      "text/plain": [
       "Extracting all conversations:   0%|          | 0/3 [00:00<?, ?it/s]"
      ]
     },
     "metadata": {},
     "output_type": "display_data"
    },
    {
     "name": "stdout",
     "output_type": "stream",
     "text": [
      "'10. Multiple Independent Conversations' passed.\n",
      "\n"
     ]
    },
    {
     "data": {
      "application/vnd.jupyter.widget-view+json": {
       "model_id": "4a983418d4874dbc8af8893243575549",
       "version_major": 2,
       "version_minor": 0
      },
      "text/plain": [
       "Extracting all conversations:   0%|          | 0/3 [00:00<?, ?it/s]"
      ]
     },
     "metadata": {},
     "output_type": "display_data"
    },
    {
     "name": "stdout",
     "output_type": "stream",
     "text": [
      "'11. Nested Replies' passed.\n",
      "\n",
      "All tests passed!\n"
     ]
    }
   ],
   "source": [
    "for test_case in test_cases:\n",
    "    df = pd.DataFrame(test_case['data']).set_index('tweet_id')\n",
    "    df[\"tweet_creation_time\"] = pd.to_datetime(df[\"tweet_creation_time\"])\n",
    "    df = df.sort_values(\"tweet_creation_time\", ascending=False)\n",
    "    result = extract_conversations(df, test_case['data'][\"user_id\"])\n",
    "    assert sorted(result) == sorted(test_case['expected']), f\"'{test_case['name']}' failed: expected {test_case['expected']}, got {result}\"\n",
    "    print(f\"'{test_case['name']}' passed.\")\n",
    "    print()\n",
    "print(\"All tests passed!\")"
   ]
  },
  {
   "cell_type": "code",
   "execution_count": null,
   "metadata": {},
   "outputs": [],
   "source": []
  }
 ],
 "metadata": {
  "kernelspec": {
   "display_name": "Python 3",
   "language": "python",
   "name": "python3"
  },
  "language_info": {
   "codemirror_mode": {
    "name": "ipython",
    "version": 3
   },
   "file_extension": ".py",
   "mimetype": "text/x-python",
   "name": "python",
   "nbconvert_exporter": "python",
   "pygments_lexer": "ipython3",
   "version": "3.12.3"
  }
 },
 "nbformat": 4,
 "nbformat_minor": 2
}
