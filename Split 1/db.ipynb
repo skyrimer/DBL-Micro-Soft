{
 "cells": [
  {
   "cell_type": "code",
   "execution_count": 88,
   "id": "initial_id",
   "metadata": {
    "collapsed": true,
    "ExecuteTime": {
     "end_time": "2024-05-04T15:02:47.127916500Z",
     "start_time": "2024-05-04T15:02:47.111901500Z"
    }
   },
   "outputs": [],
   "source": [
    "import mysql.connector\n",
    "import json"
   ]
  },
  {
   "cell_type": "code",
   "execution_count": 89,
   "outputs": [],
   "source": [
    "def get_connection():\n",
    "    mydb = mysql.connector.connect(\n",
    "        host=\"nezox2um.beget.tech\",\n",
    "        user=\"nezox2um_dbl\",\n",
    "        password='OX8tAkhwowXp',\n",
    "        database='nezox2um_dbl'\n",
    "    )\n",
    "    return mydb \n",
    "\n",
    "\n",
    "def execute_query(query, variables):\n",
    "    conn = get_connection()\n",
    "    cursor = conn.cursor()\n",
    "    if variables:\n",
    "        cursor.execute(query, variables)\n",
    "    else:\n",
    "        cursor.execute(query)\n",
    "    result = cursor.fetchall()\n",
    "    conn.commit()\n",
    "    cursor.close()\n",
    "    conn.close()\n",
    "    return result\n"
   ],
   "metadata": {
    "collapsed": false,
    "ExecuteTime": {
     "end_time": "2024-05-04T15:02:48.794038Z",
     "start_time": "2024-05-04T15:02:48.779040Z"
    }
   },
   "id": "1dfd3a340e833673"
  },
  {
   "cell_type": "code",
   "execution_count": 102,
   "outputs": [
    {
     "data": {
      "text/plain": "[]"
     },
     "execution_count": 102,
     "metadata": {},
     "output_type": "execute_result"
    }
   ],
   "source": [
    "query = \"\"\"SHOW TABLES;\"\"\"\n",
    "execute_query(query, [])"
   ],
   "metadata": {
    "collapsed": false,
    "ExecuteTime": {
     "end_time": "2024-05-04T16:57:20.534987500Z",
     "start_time": "2024-05-04T16:57:19.951205400Z"
    }
   },
   "id": "27b90e2ac192c5a4"
  },
  {
   "cell_type": "code",
   "execution_count": 101,
   "outputs": [
    {
     "data": {
      "text/plain": "[]"
     },
     "execution_count": 101,
     "metadata": {},
     "output_type": "execute_result"
    }
   ],
   "source": [
    "query = \"\"\"DROP TABLE Quotes, Replies, Tweets, Users;\"\"\"\n",
    "execute_query(query, [])"
   ],
   "metadata": {
    "collapsed": false,
    "ExecuteTime": {
     "end_time": "2024-05-04T16:57:19.181848700Z",
     "start_time": "2024-05-04T16:57:18.513526600Z"
    }
   },
   "id": "f050702113b73f47"
  },
  {
   "cell_type": "code",
   "execution_count": 64,
   "outputs": [
    {
     "data": {
      "text/plain": "[]"
     },
     "execution_count": 64,
     "metadata": {},
     "output_type": "execute_result"
    }
   ],
   "source": [
    "query = \"\"\"\n",
    "                INSERT INTO Users(user_id, location, verified, followers_count, friends_count,\n",
    "                 statuses_count, creation_time, default_profile, default_profile_image)\n",
    "                VALUES(\"aboba\",\n",
    "                 \"aboba\",\n",
    "                 0,\n",
    "                 3,\n",
    "                 3,\n",
    "                 3,\n",
    "                 53562455654,\n",
    "                 0,\n",
    "                 0);\n",
    "                \"\"\"\n",
    "execute_query(query, [])"
   ],
   "metadata": {
    "collapsed": false,
    "ExecuteTime": {
     "end_time": "2024-05-04T11:18:03.276282700Z",
     "start_time": "2024-05-04T11:18:02.671775200Z"
    }
   },
   "id": "116c011fcec3d6b6"
  },
  {
   "cell_type": "code",
   "execution_count": 100,
   "outputs": [
    {
     "data": {
      "text/plain": "[('1131172867985485824', '1131032916232826881', 0),\n ('1131173038194606081', '1131101346801836032', 0),\n ('1131173100454854657', '1131063465626427392', 0),\n ('1131173142414712832', '1131166003373723648', 0),\n ('1131173207858470913', '1130838586281156611', 0),\n ('1131173267086217217', '1127142310897160192', 0),\n ('1131173318269259776', '1131114635661324291', 0),\n ('1131173344731115520', '1131111775674482690', 0),\n ('1131173353291767810', '1131112783012073472', 0),\n ('1131173383163355137', '1131172970544619520', 0)]"
     },
     "execution_count": 100,
     "metadata": {},
     "output_type": "execute_result"
    }
   ],
   "source": [
    "query = \"\"\"Select * from Replies LIMIT 10;\"\"\"\n",
    "execute_query(query, [])"
   ],
   "metadata": {
    "collapsed": false,
    "ExecuteTime": {
     "end_time": "2024-05-04T16:32:55.980046500Z",
     "start_time": "2024-05-04T16:32:55.379373Z"
    }
   },
   "id": "93ee783962ebb86d"
  },
  {
   "cell_type": "code",
   "execution_count": 27,
   "outputs": [
    {
     "data": {
      "text/plain": "[]"
     },
     "execution_count": 27,
     "metadata": {},
     "output_type": "execute_result"
    }
   ],
   "source": [
    "query = \"\"\" CREATE TABLE IF NOT EXISTS Users(\n",
    "            user_id VARCHAR(255) PRIMARY KEY,\n",
    "            location VARCHAR(255),\n",
    "            verified TINYINT NOT NULL,\n",
    "            followers_count INT NOT NULL,\n",
    "            friends_count INT NOT NULL,\n",
    "            statuses_count INT NOT NULL,\n",
    "            creation_time TIMESTAMP NOT NULL,\n",
    "            default_profile TINYINT NOT NULL,\n",
    "            default_profile_image TINYINT NOT NULL            \n",
    "        );\"\"\"\n",
    "execute_query(query, [])"
   ],
   "metadata": {
    "collapsed": false,
    "ExecuteTime": {
     "end_time": "2024-05-04T00:29:22.331271700Z",
     "start_time": "2024-05-04T00:29:21.703522800Z"
    }
   },
   "id": "b8ea3b502dde5e8c"
  },
  {
   "cell_type": "code",
   "execution_count": 23,
   "outputs": [
    {
     "data": {
      "text/plain": "[]"
     },
     "execution_count": 23,
     "metadata": {},
     "output_type": "execute_result"
    }
   ],
   "source": [],
   "metadata": {
    "collapsed": false,
    "ExecuteTime": {
     "end_time": "2024-05-02T13:23:32.592962200Z",
     "start_time": "2024-05-02T13:23:32.024453600Z"
    }
   },
   "id": "9a89a984b7358457"
  },
  {
   "cell_type": "code",
   "execution_count": 25,
   "outputs": [
    {
     "data": {
      "text/plain": "[]"
     },
     "execution_count": 25,
     "metadata": {},
     "output_type": "execute_result"
    }
   ],
   "source": [],
   "metadata": {
    "collapsed": false,
    "ExecuteTime": {
     "end_time": "2024-05-02T13:24:00.154042700Z",
     "start_time": "2024-05-02T13:23:59.622350400Z"
    }
   },
   "id": "9d25ea57e152d3e3"
  },
  {
   "cell_type": "code",
   "execution_count": 26,
   "outputs": [
    {
     "data": {
      "text/plain": "[]"
     },
     "execution_count": 26,
     "metadata": {},
     "output_type": "execute_result"
    }
   ],
   "source": [],
   "metadata": {
    "collapsed": false,
    "ExecuteTime": {
     "end_time": "2024-05-02T13:25:42.301324900Z",
     "start_time": "2024-05-02T13:25:41.771368300Z"
    }
   },
   "id": "6eadd253bec4496"
  },
  {
   "cell_type": "code",
   "execution_count": null,
   "outputs": [],
   "source": [],
   "metadata": {
    "collapsed": false
   },
   "id": "9a820eb871a1cb67"
  }
 ],
 "metadata": {
  "kernelspec": {
   "display_name": "Python 3",
   "language": "python",
   "name": "python3"
  },
  "language_info": {
   "codemirror_mode": {
    "name": "ipython",
    "version": 2
   },
   "file_extension": ".py",
   "mimetype": "text/x-python",
   "name": "python",
   "nbconvert_exporter": "python",
   "pygments_lexer": "ipython2",
   "version": "2.7.6"
  }
 },
 "nbformat": 4,
 "nbformat_minor": 5
}
