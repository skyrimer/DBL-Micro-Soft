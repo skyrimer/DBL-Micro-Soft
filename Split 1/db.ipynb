{
 "cells": [
  {
   "cell_type": "code",
   "execution_count": 2,
   "id": "initial_id",
   "metadata": {
    "collapsed": true,
    "ExecuteTime": {
     "end_time": "2024-05-03T10:07:47.978928100Z",
     "start_time": "2024-05-03T10:07:47.781801100Z"
    }
   },
   "outputs": [],
   "source": [
    "import mysql.connector\n"
   ]
  },
  {
   "cell_type": "code",
   "execution_count": 3,
   "outputs": [],
   "source": [
    "def get_connection():\n",
    "    mydb = mysql.connector.connect(\n",
    "        host=\"nezox2um.beget.tech\",\n",
    "        user=\"nezox2um_dbl\",\n",
    "        password='OX8tAkhwowXp',\n",
    "        database='nezox2um_dbl'\n",
    "    )\n",
    "    return mydb \n",
    "\n",
    "\n",
    "def execute_query(query, variables):\n",
    "    conn = get_connection()\n",
    "    cursor = conn.cursor()\n",
    "    if variables:\n",
    "        cursor.execute(query, variables)\n",
    "    else:\n",
    "        cursor.execute(query)\n",
    "    result = cursor.fetchall()\n",
    "    conn.commit()\n",
    "    cursor.close()\n",
    "    conn.close()\n",
    "    return result\n"
   ],
   "metadata": {
    "collapsed": false,
    "ExecuteTime": {
     "end_time": "2024-05-03T10:07:49.379734Z",
     "start_time": "2024-05-03T10:07:49.360834300Z"
    }
   },
   "id": "1dfd3a340e833673"
  },
  {
   "cell_type": "code",
   "execution_count": 15,
   "outputs": [
    {
     "data": {
      "text/plain": "[('Quotes',), ('Replies',), ('Tweets',), ('Users',)]"
     },
     "execution_count": 15,
     "metadata": {},
     "output_type": "execute_result"
    }
   ],
   "source": [
    "query = \"\"\"SHOW TABLES;\"\"\"\n",
    "execute_query(query, [])"
   ],
   "metadata": {
    "collapsed": false,
    "ExecuteTime": {
     "end_time": "2024-05-03T11:37:13.313731500Z",
     "start_time": "2024-05-03T11:37:12.684867400Z"
    }
   },
   "id": "27b90e2ac192c5a4"
  },
  {
   "cell_type": "code",
   "execution_count": 13,
   "outputs": [
    {
     "data": {
      "text/plain": "[]"
     },
     "execution_count": 13,
     "metadata": {},
     "output_type": "execute_result"
    }
   ],
   "source": [
    "query = \"\"\"DROP TABLE Quotes, Replies, Tweets, Users;\"\"\"\n",
    "execute_query(query, [])"
   ],
   "metadata": {
    "collapsed": false,
    "ExecuteTime": {
     "end_time": "2024-05-03T11:37:00.032020100Z",
     "start_time": "2024-05-03T11:36:59.433178200Z"
    }
   },
   "id": "f050702113b73f47"
  },
  {
   "cell_type": "code",
   "execution_count": 18,
   "outputs": [
    {
     "data": {
      "text/plain": "[]"
     },
     "execution_count": 18,
     "metadata": {},
     "output_type": "execute_result"
    }
   ],
   "source": [],
   "metadata": {
    "collapsed": false,
    "ExecuteTime": {
     "end_time": "2024-05-02T13:21:26.685621700Z",
     "start_time": "2024-05-02T13:21:26.134006500Z"
    }
   },
   "id": "116c011fcec3d6b6"
  },
  {
   "cell_type": "code",
   "execution_count": 20,
   "outputs": [
    {
     "data": {
      "text/plain": "[]"
     },
     "execution_count": 20,
     "metadata": {},
     "output_type": "execute_result"
    }
   ],
   "source": [],
   "metadata": {
    "collapsed": false,
    "ExecuteTime": {
     "end_time": "2024-05-02T13:22:25.209056Z",
     "start_time": "2024-05-02T13:22:24.689672100Z"
    }
   },
   "id": "93ee783962ebb86d"
  },
  {
   "cell_type": "code",
   "execution_count": 22,
   "outputs": [
    {
     "data": {
      "text/plain": "[]"
     },
     "execution_count": 22,
     "metadata": {},
     "output_type": "execute_result"
    }
   ],
   "source": [],
   "metadata": {
    "collapsed": false,
    "ExecuteTime": {
     "end_time": "2024-05-02T13:23:15.963551600Z",
     "start_time": "2024-05-02T13:23:15.378451100Z"
    }
   },
   "id": "b8ea3b502dde5e8c"
  },
  {
   "cell_type": "code",
   "execution_count": 23,
   "outputs": [
    {
     "data": {
      "text/plain": "[]"
     },
     "execution_count": 23,
     "metadata": {},
     "output_type": "execute_result"
    }
   ],
   "source": [],
   "metadata": {
    "collapsed": false,
    "ExecuteTime": {
     "end_time": "2024-05-02T13:23:32.592962200Z",
     "start_time": "2024-05-02T13:23:32.024453600Z"
    }
   },
   "id": "9a89a984b7358457"
  },
  {
   "cell_type": "code",
   "execution_count": 25,
   "outputs": [
    {
     "data": {
      "text/plain": "[]"
     },
     "execution_count": 25,
     "metadata": {},
     "output_type": "execute_result"
    }
   ],
   "source": [],
   "metadata": {
    "collapsed": false,
    "ExecuteTime": {
     "end_time": "2024-05-02T13:24:00.154042700Z",
     "start_time": "2024-05-02T13:23:59.622350400Z"
    }
   },
   "id": "9d25ea57e152d3e3"
  },
  {
   "cell_type": "code",
   "execution_count": 26,
   "outputs": [
    {
     "data": {
      "text/plain": "[]"
     },
     "execution_count": 26,
     "metadata": {},
     "output_type": "execute_result"
    }
   ],
   "source": [],
   "metadata": {
    "collapsed": false,
    "ExecuteTime": {
     "end_time": "2024-05-02T13:25:42.301324900Z",
     "start_time": "2024-05-02T13:25:41.771368300Z"
    }
   },
   "id": "6eadd253bec4496"
  },
  {
   "cell_type": "code",
   "execution_count": null,
   "outputs": [],
   "source": [],
   "metadata": {
    "collapsed": false
   },
   "id": "9a820eb871a1cb67"
  }
 ],
 "metadata": {
  "kernelspec": {
   "display_name": "Python 3",
   "language": "python",
   "name": "python3"
  },
  "language_info": {
   "codemirror_mode": {
    "name": "ipython",
    "version": 2
   },
   "file_extension": ".py",
   "mimetype": "text/x-python",
   "name": "python",
   "nbconvert_exporter": "python",
   "pygments_lexer": "ipython2",
   "version": "2.7.6"
  }
 },
 "nbformat": 4,
 "nbformat_minor": 5
}
