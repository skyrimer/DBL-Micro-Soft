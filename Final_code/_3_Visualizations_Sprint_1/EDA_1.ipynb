{
 "cells": [
  {
   "cell_type": "markdown",
   "metadata": {},
   "source": [
    "# Imports"
   ]
  },
  {
   "cell_type": "code",
   "execution_count": null,
   "metadata": {
    "ExecuteTime": {
     "end_time": "2024-06-09T20:24:50.636798500Z",
     "start_time": "2024-06-09T20:24:50.327633800Z"
    }
   },
   "outputs": [],
   "source": [
    "import os\n",
    "import sys\n",
    "import matplotlib.pyplot as plt\n",
    "import pandas as pd\n",
    "import seaborn as sns\n",
    "\n",
    "sys.path.append(os.path.join(os.path.dirname(os.getcwd()), \"_0_Constants_and_Utils\"))\n",
    "\n",
    "\n",
    "from viz_constants import (QUERY_TWEETS, QUERY_USERS, QUERY_REPLY,\n",
    "                           COMPANY_NAME_TO_ID, COMPANY_ID_TO_NAME,\n",
    "                           DTYPES_TWEETS, DTYPES_USERS)\n",
    "from viz_helpers import get_country_name, get_full_language_name, get_size_of\n",
    "from database_utils import get_dataframe_from_query, form_connection_params"
   ]
  },
  {
   "cell_type": "markdown",
   "metadata": {},
   "source": [
    "# Loading"
   ]
  },
  {
   "cell_type": "code",
   "execution_count": null,
   "metadata": {
    "ExecuteTime": {
     "end_time": "2024-06-09T20:29:56.090491900Z",
     "start_time": "2024-06-09T20:24:50.643765600Z"
    }
   },
   "outputs": [],
   "source": [
    "# Set local = False if you want to query the online MySQL database\n",
    "local = True\n",
    "connection_params = form_connection_params(local, True)\n"
   ]
  },
  {
   "cell_type": "code",
   "execution_count": null,
   "metadata": {},
   "outputs": [],
   "source": [
    "df_users = get_dataframe_from_query(QUERY_USERS, connection_params, local, DTYPES_USERS, \"user_id\", parse_dates=[\"creation_time\"])\n",
    "df_users"
   ]
  },
  {
   "cell_type": "code",
   "execution_count": null,
   "metadata": {},
   "outputs": [],
   "source": [
    "df_tweets = get_dataframe_from_query(QUERY_TWEETS, connection_params, local, DTYPES_TWEETS, \"tweet_id\", parse_dates=[\"creation_time\"])\n",
    "df_tweets"
   ]
  },
  {
   "cell_type": "code",
   "execution_count": null,
   "metadata": {},
   "outputs": [],
   "source": [
    "test_data = df_tweets.rename(columns={'creation_time': 'tweet_creation_time'})\\\n",
    "    .merge(df_users.rename(columns={'creation_time': 'user_creation_time'}),\n",
    "           left_on='user_id', right_index=True, how='inner')\n",
    "test_data"
   ]
  },
  {
   "cell_type": "code",
   "execution_count": null,
   "metadata": {},
   "outputs": [],
   "source": [
    "df_reply = get_dataframe_from_query(QUERY_REPLY, connection_params, local, index_col=\"tweet_id\")\n",
    "df_reply"
   ]
  },
  {
   "cell_type": "code",
   "execution_count": null,
   "metadata": {
    "ExecuteTime": {
     "end_time": "2024-06-09T20:30:39.921690500Z",
     "start_time": "2024-06-09T20:30:39.861740Z"
    }
   },
   "outputs": [],
   "source": [
    "test_data.info()"
   ]
  },
  {
   "cell_type": "code",
   "execution_count": null,
   "metadata": {
    "ExecuteTime": {
     "end_time": "2024-06-09T20:30:47.189065500Z",
     "start_time": "2024-06-09T20:30:43.418496900Z"
    }
   },
   "outputs": [],
   "source": [
    "get_size_of(test_data.memory_usage(index=True, deep=True).sum())"
   ]
  },
  {
   "cell_type": "code",
   "execution_count": null,
   "metadata": {
    "ExecuteTime": {
     "end_time": "2024-06-09T20:35:16.247777300Z",
     "start_time": "2024-06-09T20:35:14.875344400Z"
    }
   },
   "outputs": [],
   "source": [
    "test_data.describe()"
   ]
  },
  {
   "cell_type": "markdown",
   "metadata": {},
   "source": [
    "# Visualisations"
   ]
  },
  {
   "cell_type": "markdown",
   "metadata": {},
   "source": [
    "## Database size"
   ]
  },
  {
   "cell_type": "code",
   "execution_count": null,
   "metadata": {},
   "outputs": [],
   "source": []
  },
  {
   "cell_type": "code",
   "execution_count": null,
   "metadata": {},
   "outputs": [],
   "source": [
    "total_lines = 6511404 #total number of lines if you combine all raw jsons\n",
    "tweets_right_now = len(test_data)\n",
    "\n",
    "# Example data\n",
    "values = [total_lines, tweets_right_now]\n",
    "labels = [\"Number of possible tweets\", \"Number of stored tweets\"]\n",
    "\n",
    "plt.figure(figsize=(10, 7))\n",
    "bars = plt.bar(labels, values, color=sns.color_palette(\"viridis\", len(labels)))\n",
    "\n",
    "# Add labels on top of each bar\n",
    "for bar in bars:\n",
    "    yval = bar.get_height()\n",
    "    plt.text(bar.get_x() + bar.get_width()/2 - 0.1, yval + 50000, f'{yval:,}', fontsize=12, weight='bold')\n",
    "\n",
    "# Customize the chart\n",
    "plt.title('Comparison of tweets provided vs stored', fontsize=16, weight='bold')\n",
    "plt.ylabel('Number of Tweets', fontsize=14, weight='bold')\n",
    "plt.xticks(fontsize=12, weight='bold')\n",
    "plt.yticks(fontsize=12, weight='bold');"
   ]
  },
  {
   "cell_type": "code",
   "execution_count": null,
   "metadata": {},
   "outputs": [],
   "source": [
    "data = [258, 414685, 190928, 2326, 15] # was done with another script\n",
    "labels = ['Not a tweet', 'Duplicate tweet', 'Inhuman language',\n",
    "          'No tweet id', \"Invalid user\"]\n",
    "\n",
    "# Ensure data and labels have the same length\n",
    "assert len(data) == len(labels), \"Data and labels must be the same length.\"\n",
    "\n",
    "# Sort the data and labels in decreasing order\n",
    "sorted_data_labels = sorted(zip(data, labels), reverse=True)\n",
    "data, labels = zip(*sorted_data_labels)\n",
    "\n",
    "# Choose a color palette\n",
    "\n",
    "# Create the bar chart\n",
    "plt.figure(figsize=(20, 8))\n",
    "bars = plt.bar(labels, data, color=sns.color_palette(\"viridis\", len(labels)))\n",
    "\n",
    "# Add labels on top of each bar\n",
    "for bar in bars:\n",
    "    yval = bar.get_height()\n",
    "    plt.text(bar.get_x() + bar.get_width()/2 - 0.1, yval + 5000, f'{yval:,}',\n",
    "             fontsize=12, weight='bold')\n",
    "\n",
    "# Customize the chart\n",
    "plt.title('Numbers of potential tweets not considered per category',\n",
    "          fontsize=16, weight='bold')\n",
    "plt.ylabel('Number of Tweets', fontsize=14, weight='bold')\n",
    "plt.xticks(fontsize=12, weight='bold')\n",
    "plt.yticks(fontsize=12, weight='bold');"
   ]
  },
  {
   "cell_type": "code",
   "execution_count": null,
   "metadata": {},
   "outputs": [],
   "source": [
    "total_lines = 35.2\n",
    "mysql = 2.2\n",
    "\n",
    "values = [total_lines, mysql]\n",
    "labels = [\"Raw data\", \"MySQL storage\"]\n",
    "\n",
    "plt.figure(figsize=(10, 8))\n",
    "bars = plt.bar(labels, values, color=sns.color_palette(\"viridis\", len(labels)))  \n",
    "\n",
    "# Add labels on top of each bar\n",
    "for bar in bars:\n",
    "    yval = bar.get_height()\n",
    "    plt.text(bar.get_x() + bar.get_width() / 2, yval+0.5, f'{yval:,}',\n",
    "             fontsize=12, weight='bold')\n",
    "\n",
    "# Customize the chart\n",
    "plt.title('Comparison of storage required', fontsize=16, weight='bold')\n",
    "plt.ylabel('Storage, GB', fontsize=14, weight='bold')\n",
    "plt.xticks(fontsize=12, weight='bold')\n",
    "plt.yticks(fontsize=12, weight='bold');"
   ]
  },
  {
   "cell_type": "code",
   "execution_count": null,
   "metadata": {},
   "outputs": [],
   "source": [
    "total_lines = 35.2\n",
    "mysql = 2.2\n",
    "\n",
    "values = [total_lines, mysql]\n",
    "labels = [\"Raw data\", \"MySQL storage\"]\n",
    "\n",
    "plt.figure(figsize=(10, 8))\n",
    "bars = plt.bar(labels, values, color=sns.color_palette(\"viridis\", len(labels)))  \n",
    "\n",
    "# Add labels on top of each bar\n",
    "for bar in bars:\n",
    "    yval = bar.get_height()\n",
    "    plt.text(bar.get_x() + bar.get_width() / 2, yval+0.5, f'{yval:,}',\n",
    "             fontsize=12, weight='bold')\n",
    "\n",
    "# Customize the chart\n",
    "plt.title('Comparison of storage required', fontsize=16, weight='bold')\n",
    "plt.ylabel('Storage, GB', fontsize=14, weight='bold')\n",
    "plt.xticks(fontsize=12, weight='bold')\n",
    "plt.yticks(fontsize=12, weight='bold');"
   ]
  },
  {
   "cell_type": "markdown",
   "metadata": {},
   "source": [
    "## Language related"
   ]
  },
  {
   "cell_type": "code",
   "execution_count": null,
   "metadata": {},
   "outputs": [],
   "source": [
    "df_lang_distr = test_data.groupby('lang', observed=True)\\\n",
    "    [[\"user_id\"]].count().sort_values('user_id', ascending=False)\\\n",
    "        .rename(columns={\"user_id\":\"Tweets number\"})\n",
    "df_lang_distr"
   ]
  },
  {
   "cell_type": "code",
   "execution_count": null,
   "metadata": {},
   "outputs": [],
   "source": [
    "df_top_lang = df_lang_distr.nlargest(5, 'Tweets number')\n",
    "\n",
    "df_other_lang = df_lang_distr.loc[~df_lang_distr.index.isin(df_top_lang.index)]\n",
    "\n",
    "df_lang_agg = df_other_lang.sum()\n",
    "df_lang_agg.name = 'Other languages'\n",
    "\n",
    "df_lang_agg_final = pd.concat([df_top_lang, df_lang_agg.to_frame().T])\n",
    "df_lang_agg_final.index.name = 'Language'\n",
    "df_lang_agg_final.index = df_lang_agg_final.index.map(get_full_language_name)\n",
    "df_lang_agg_final"
   ]
  },
  {
   "cell_type": "code",
   "execution_count": null,
   "metadata": {},
   "outputs": [],
   "source": [
    "plt.figure(figsize=(10, 8))\n",
    "plt.pie(df_lang_agg_final[\"Tweets number\"], labels=df_lang_agg_final.index,\n",
    "        startangle=140, textprops={'fontsize': 14, 'weight': 'bold'},\n",
    "        colors=sns.color_palette(\"viridis\", len(df_lang_agg_final)))\n",
    "plt.title('Distribution of tweets per language', fontsize=16, weight='bold')\n",
    "plt.legend(df_lang_agg_final.index, title=\"Countries\",\n",
    "           bbox_to_anchor=(1.05, 1), loc='upper left', fontsize=12);"
   ]
  },
  {
   "cell_type": "markdown",
   "metadata": {},
   "source": [
    "## Country of origin"
   ]
  },
  {
   "cell_type": "code",
   "execution_count": null,
   "metadata": {},
   "outputs": [],
   "source": [
    "df_country_dist = test_data.groupby('country_code', observed=True)\\\n",
    "    [[\"user_id\"]].count().sort_values('user_id', ascending=False)\\\n",
    "        .rename(columns={\"user_id\":\"Tweets number\"})\n",
    "df_country_dist.index = df_country_dist.index.map(get_country_name)\n",
    "df_country_dist"
   ]
  },
  {
   "cell_type": "code",
   "execution_count": null,
   "metadata": {},
   "outputs": [],
   "source": [
    "df_top_country = df_country_dist.nlargest(1, 'Tweets number')\n",
    "df_other_country = df_country_dist.loc[~df_country_dist.index.isin(df_top_country.index)]\n",
    "df_country_agg = df_other_country.sum()\n",
    "\n",
    "df_country_agg.name = 'Other countries'\n",
    "df_country_agg_final = pd.concat([df_top_country, df_country_agg.to_frame().T])\n",
    "df_country_agg_final.index.name = 'Country'\n",
    "df_country_agg_final"
   ]
  },
  {
   "cell_type": "code",
   "execution_count": null,
   "metadata": {},
   "outputs": [],
   "source": [
    "plt.figure(figsize=(10, 8))\n",
    "plt.pie(df_country_agg_final['Tweets number'], labels=df_country_agg_final.index,\n",
    "        autopct='%1.1f%%', startangle=140,\n",
    "        textprops={'fontsize': 14, 'weight': 'bold'})\n",
    "plt.title(\"Number of tweets per known countries\", fontsize=16, weight='bold')\n",
    "plt.legend(df_country_agg_final.index, title=\"Countries\",\n",
    "           bbox_to_anchor=(1.05, 1), loc='upper left', fontsize=12);"
   ]
  },
  {
   "cell_type": "code",
   "execution_count": null,
   "metadata": {},
   "outputs": [],
   "source": [
    "df_country_known = df_country_dist[df_country_dist.index != \"Unknown Country\"].copy()\n",
    "\n",
    "top_10_countries = df_country_known.nlargest(5, 'Tweets number')\n",
    "\n",
    "other_countries_df = df_country_known.loc[~df_country_known.index.isin(top_10_countries.index)]\n",
    "\n",
    "other_countries_agg = other_countries_df.sum()\n",
    "other_countries_agg.name = 'Other countries'\n",
    "\n",
    "\n",
    "df_top_country_known = df_country_known.nlargest(5, 'Tweets number')\n",
    "df_other_country_known = df_country_known.loc[~df_country_known.index.isin(df_top_country_known.index)]\n",
    "df_country_known_agg = df_other_country_known.sum()\n",
    "\n",
    "df_country_known_agg.name = 'Other countries'\n",
    "df_country_known_agg_final = pd.concat([df_top_country_known, df_country_known_agg.to_frame().T])\n",
    "df_country_known_agg_final.index.name = 'Country'\n",
    "df_country_known_agg_final"
   ]
  },
  {
   "cell_type": "code",
   "execution_count": null,
   "metadata": {},
   "outputs": [],
   "source": [
    "plt.figure(figsize=(10, 8))\n",
    "plt.pie(df_country_known_agg_final[\"Tweets number\"], labels=df_country_known_agg_final.index,\n",
    "        autopct='%1.1f%%', startangle=140, textprops={'fontsize': 14, 'weight': 'bold'}, )\n",
    "plt.title(\"Distribution of tweets per known countries\", fontsize=16, weight='bold')\n",
    "plt.legend(df_country_known_agg_final.index, title=\"Countries\",\n",
    "           bbox_to_anchor=(1.05, 1), loc='upper left', fontsize=12);"
   ]
  },
  {
   "cell_type": "markdown",
   "metadata": {},
   "source": [
    "## Tweets from main accounts of the airlines"
   ]
  },
  {
   "cell_type": "code",
   "execution_count": null,
   "metadata": {},
   "outputs": [],
   "source": [
    "avia_names = set(COMPANY_NAME_TO_ID.values())\n",
    "\n",
    "replies_to_avia_companies_df = test_data.loc[test_data['user_id'].apply(\n",
    "    lambda x: any(x == avia_name for avia_name in avia_names)\n",
    "    )]\n",
    "replies_to_avia_companies_df = replies_to_avia_companies_df.reset_index()\\\n",
    "    .groupby(\"user_id\").count()[['tweet_id']]\\\n",
    "        .sort_values('tweet_id', ascending=False).reset_index()\n",
    "replies_to_avia_companies_df[\"user_id\"] = replies_to_avia_companies_df[\"user_id\"]\\\n",
    "    .apply(lambda user_id: COMPANY_ID_TO_NAME.get(user_id, user_id))\n",
    "replies_to_avia_companies_df = replies_to_avia_companies_df.set_index(\"user_id\")\n",
    "replies_to_avia_companies_df"
   ]
  },
  {
   "cell_type": "code",
   "execution_count": null,
   "metadata": {},
   "outputs": [],
   "source": [
    "fig, ax = plt.subplots(nrows=1, ncols=1, figsize=(25,10))\n",
    "sns.barplot(data=replies_to_avia_companies_df, ax=ax, x='user_id', y='tweet_id',\n",
    "            palette=sns.color_palette(\"viridis\", replies_to_avia_companies_df.index.nunique()),\n",
    "            hue='user_id', dodge=False)\n",
    "# Customize the chart\n",
    "plt.title('Number of tweets by airline company', fontsize=16, weight='bold')\n",
    "plt.ylabel('Number of tweets', fontsize=14, weight='bold')\n",
    "plt.xlabel('', fontsize=14, weight='bold')\n",
    "plt.xticks(fontsize=12, weight='bold')\n",
    "plt.yticks(fontsize=12, weight='bold');"
   ]
  },
  {
   "cell_type": "markdown",
   "metadata": {},
   "source": [
    "## Replies to company posts"
   ]
  },
  {
   "cell_type": "code",
   "execution_count": null,
   "metadata": {
    "ExecuteTime": {
     "end_time": "2024-06-09T20:36:31.955131300Z",
     "start_time": "2024-06-09T20:36:31.876879600Z"
    }
   },
   "outputs": [],
   "source": [
    "df_reply[\"tweet_creation_time\"] = pd.to_datetime(df_reply[\"tweet_creation_time\"])\n",
    "df_reply[\"original_tweet_creation_time\"] = pd.to_datetime(df_reply[\"original_tweet_creation_time\"])\n",
    "df_reply[\"response_time\"] = df_reply[\"tweet_creation_time\"] - df_reply[\"original_tweet_creation_time\"]\n",
    "df_reply"
   ]
  },
  {
   "cell_type": "code",
   "execution_count": null,
   "metadata": {},
   "outputs": [],
   "source": [
    "df_reply[\"airline\"] = df_reply[\"user_id\"].map(COMPANY_ID_TO_NAME)\n",
    "df_reply[\"original_airline\"] = df_reply[\"original_user_id\"].map(COMPANY_ID_TO_NAME)\n",
    "df_reply"
   ]
  },
  {
   "cell_type": "code",
   "execution_count": null,
   "metadata": {},
   "outputs": [],
   "source": [
    "# Convert datetime and timedelta columns\n",
    "df_reply['response_time'] = pd.to_timedelta(df_reply['response_time'])\n",
    "\n",
    "# Calculate average response time per airline\n",
    "average_response_time_airline = df_reply[df_reply['airline'].notnull()]\\\n",
    "    .groupby('airline')['response_time'].mean()\n",
    "\n",
    "# Calculate average response time for others users to react to each airline\n",
    "average_response_time_reactions = df_reply[df_reply['original_airline'].notnull()]\\\n",
    "    .groupby('original_airline')['response_time'].mean()\n",
    "\n",
    "# Combine the results into one DataFrame for plotting\n",
    "df_airline_response = pd.DataFrame({\n",
    "    'Airline Response Time': average_response_time_airline.reindex(\n",
    "        average_response_time_airline.index.union(average_response_time_reactions.index)\n",
    "        ),\n",
    "    'User Reaction Time': average_response_time_reactions.reindex(\n",
    "        average_response_time_airline.index.union(average_response_time_reactions.index)\n",
    "        )\n",
    "})\n",
    "df_airline_response.index.name = \"Airline\"\n",
    "df_airline_response"
   ]
  },
  {
   "cell_type": "code",
   "execution_count": null,
   "metadata": {},
   "outputs": [],
   "source": [
    "df_airline_response_plot = df_airline_response.dropna().copy()\n",
    "df_airline_response_plot['Airline Response Time, hours'] = df_airline_response_plot['Airline Response Time'].dt.total_seconds() / 3600\n",
    "df_airline_response_plot['User Reaction Time, days'] = df_airline_response_plot['User Reaction Time'].dt.total_seconds() / 86.400"
   ]
  },
  {
   "cell_type": "code",
   "execution_count": null,
   "metadata": {},
   "outputs": [],
   "source": [
    "fig, ax = plt.subplots(nrows=1, figsize=(18, 8))\n",
    "sns.barplot(df_airline_response_plot.sort_values('Airline Response Time, hours'),\n",
    "            x='Airline', y='Airline Response Time, hours', ax=ax,\n",
    "            palette=sns.color_palette(\"viridis\", df_airline_response_plot.index.nunique()),\n",
    "            hue='Airline', dodge=False)\n",
    "ax.set_title('Average airline customer service response time',\n",
    "             fontsize=16, weight='bold')\n",
    "ax.set_ylabel('Airline Response Time, hours', fontsize=14, weight='bold');"
   ]
  },
  {
   "cell_type": "code",
   "execution_count": null,
   "metadata": {},
   "outputs": [],
   "source": [
    "fig, ax = plt.subplots(nrows=1, figsize=(18, 8))\n",
    "sns.barplot(df_airline_response_plot.sort_values('User Reaction Time, days'),\n",
    "            x='Airline', y='User Reaction Time, days', ax=ax,\n",
    "            palette=sns.color_palette(\"viridis\", df_airline_response_plot.index.nunique()),\n",
    "            hue='Airline', dodge=False)\n",
    "ax.set_title('Average user reaction time to airline tweet', fontsize=16, weight='bold')\n",
    "ax.set_ylabel('User Reaction Time, days', fontsize=14, weight='bold');"
   ]
  },
  {
   "cell_type": "code",
   "execution_count": null,
   "metadata": {},
   "outputs": [],
   "source": [
    "df_reply_luft = df_reply.groupby(\"airline\")\n",
    "# df_reply_luft.reset_index().set_index(\"original_tweet_id\")\n",
    "df_reply_luft.describe()"
   ]
  },
  {
   "cell_type": "markdown",
   "metadata": {},
   "source": [
    "## Companies' activity and popularity in social media"
   ]
  },
  {
   "cell_type": "code",
   "execution_count": null,
   "metadata": {},
   "outputs": [],
   "source": [
    "df_airlines_popularity = test_data[test_data['user_id']\\\n",
    "    .apply(lambda x: any(x == avia_name for avia_name in avia_names))]\\\n",
    "        .groupby(\"user_id\")\\\n",
    "            .agg(\n",
    "                retweet_count=(\"retweet_count\", \"sum\"),\n",
    "                favorite_count=(\"favorite_count\", \"sum\"),\n",
    "                reply_count=(\"reply_count\", \"sum\"),\n",
    "                quote_count=(\"quote_count\", \"sum\"),\n",
    "            )\n",
    "df_airlines_popularity.index = df_airlines_popularity.index.map(\n",
    "    lambda user_id: COMPANY_ID_TO_NAME[user_id]\n",
    "    )\n",
    "df_airlines_popularity.index.name = \"Airlines\"\n",
    "df_airlines_popularity"
   ]
  },
  {
   "cell_type": "code",
   "execution_count": null,
   "metadata": {},
   "outputs": [],
   "source": [
    "fig, ax = plt.subplots(nrows=1, figsize=(18, 8))\n",
    "sns.barplot(df_airlines_popularity, x='Airlines', y=\"retweet_count\", ax=ax,\n",
    "            palette=sns.color_palette(\"viridis\", df_airlines_popularity.index.nunique()),\n",
    "            hue='Airlines', dodge=False)\n",
    "ax.set_title(\"Total retweets count of each airlines' tweets\", fontsize=16, weight='bold')\n",
    "ax.set_ylabel(\"Retweet count\");"
   ]
  },
  {
   "cell_type": "code",
   "execution_count": null,
   "metadata": {},
   "outputs": [],
   "source": [
    "fig, ax = plt.subplots(nrows=1, figsize=(18, 8))\n",
    "sns.barplot(df_airlines_popularity, x='Airlines', y=\"favorite_count\", ax=ax,\n",
    "            palette=sns.color_palette(\"viridis\", df_airlines_popularity.index.nunique()),\n",
    "            hue='Airlines', dodge=False)\n",
    "ax.set_title(\"Total favourite count of each airlines' tweets\", fontsize=16, weight='bold')\n",
    "ax.set_ylabel(\"Favourite count\");"
   ]
  },
  {
   "cell_type": "code",
   "execution_count": null,
   "metadata": {},
   "outputs": [],
   "source": [
    "fig, ax = plt.subplots(nrows=1, figsize=(18, 8))\n",
    "sns.barplot(df_airlines_popularity, x='Airlines', y=\"reply_count\", ax=ax,\n",
    "            palette=sns.color_palette(\"viridis\", df_airlines_popularity.index.nunique()),\n",
    "            hue='Airlines', dodge=False)\n",
    "ax.set_title(\"Total reply count of each airlines' tweets\", fontsize=16, weight='bold')\n",
    "ax.set_ylabel(\"Reply count\");"
   ]
  },
  {
   "cell_type": "code",
   "execution_count": null,
   "metadata": {},
   "outputs": [],
   "source": [
    "fig, ax = plt.subplots(nrows=1, figsize=(18, 8))\n",
    "sns.barplot(df_airlines_popularity, x='Airlines', y=\"quote_count\", ax=ax,\n",
    "            palette=sns.color_palette(\"viridis\", df_airlines_popularity.index.nunique()),\n",
    "            hue='Airlines', dodge=False)\n",
    "ax.set_title(\"Total quote count of each airlines' tweets\", fontsize=16, weight='bold')\n",
    "ax.set_ylabel(\"Quote count\");"
   ]
  },
  {
   "cell_type": "markdown",
   "metadata": {},
   "source": [
    "## Information regarding users"
   ]
  },
  {
   "cell_type": "code",
   "execution_count": null,
   "metadata": {},
   "outputs": [],
   "source": [
    "df_users = test_data.groupby(\"user_id\")\n",
    "df_users = df_users.agg(\n",
    "    user_creation_time=(\"user_creation_time\", \"min\"),\n",
    "    verified=(\"verified\", \"min\"),\n",
    "    followers_count=(\"followers_count\", \"min\"),\n",
    "    friends_count=(\"friends_count\", \"min\"),\n",
    "    statuses_count=(\"statuses_count\", \"min\"),\n",
    "    default_profile=(\"default_profile\", \"min\"),\n",
    "    default_profile_image=(\"default_profile_image\", \"max\"),\n",
    "    first_tweet=(\"tweet_creation_time\", \"min\"),\n",
    "    last_tweet=(\"tweet_creation_time\", \"max\"),\n",
    "    possibly_sensitive=(\"possibly_sensitive\", \"sum\"),\n",
    "    favorite_count=(\"favorite_count\", \"sum\"),\n",
    "    retweet_count=(\"retweet_count\", \"sum\"),\n",
    "    reply_count=(\"reply_count\", \"sum\"),\n",
    "    quote_count=(\"quote_count\", \"sum\"),\n",
    "    lang=(\"lang\", \"first\")\n",
    ")\n",
    "df_users.head()"
   ]
  },
  {
   "cell_type": "code",
   "execution_count": null,
   "metadata": {},
   "outputs": [],
   "source": [
    "df_users.describe()"
   ]
  },
  {
   "cell_type": "markdown",
   "metadata": {},
   "source": [
    "### Custom user \"trustworthiness\" classification"
   ]
  },
  {
   "cell_type": "code",
   "execution_count": null,
   "metadata": {},
   "outputs": [],
   "source": [
    "df_verified = df_users.groupby(\"verified\").agg(verified=(\"user_creation_time\", \"count\"))\n",
    "df_verified.index = df_verified.index.map(\n",
    "    lambda x: {True: \"Verified\", False: \"Not Verified\"}[x]\n",
    "    )\n",
    "\n",
    "plt.figure(figsize=(10, 8))\n",
    "plt.pie(df_verified[\"verified\"], labels=df_verified.index, autopct='%1.1f%%',\n",
    "        startangle=140, textprops={'fontsize': 14, 'weight': 'bold'})\n",
    "plt.title(\"Verified User Ratio\", fontsize=16, weight='bold')\n",
    "plt.legend(df_verified.index, title=\"Countries\", bbox_to_anchor=(1.05, 1),\n",
    "           loc='upper left', fontsize=12)\n",
    "df_verified"
   ]
  },
  {
   "cell_type": "code",
   "execution_count": null,
   "metadata": {},
   "outputs": [],
   "source": [
    "default_profile = df_users.groupby(\"default_profile\").agg(default_profile=(\"user_creation_time\", \"count\"))\n",
    "default_profile.index = default_profile.index.map(lambda x: {True: \"Default Profile\", False: \"Unique Profile\"}[x])\n",
    "\n",
    "plt.figure(figsize=(10, 8))\n",
    "plt.pie(default_profile[\"default_profile\"], labels=default_profile.index,\n",
    "        autopct='%1.1f%%', startangle=140,\n",
    "        textprops={'fontsize': 14, 'weight': 'bold'})\n",
    "plt.title(\"Verified User Ratio\", fontsize=16, weight='bold')\n",
    "plt.legend(default_profile.index, title=\"Countries\", bbox_to_anchor=(1.05, 1),\n",
    "           loc='upper left', fontsize=12)\n",
    "default_profile"
   ]
  },
  {
   "cell_type": "markdown",
   "metadata": {},
   "source": [
    "## Tweets information"
   ]
  },
  {
   "cell_type": "code",
   "execution_count": null,
   "metadata": {},
   "outputs": [],
   "source": [
    "df_sensitive = test_data.groupby(\"possibly_sensitive\")[[\"user_id\"]].count()\n",
    "df_sensitive.index = df_sensitive.index.map(lambda x: {True: \"Sensitive\", False: \"Not Sensitive\"}[x])\n",
    "\n",
    "plt.figure(figsize=(10, 8))\n",
    "plt.pie(df_sensitive[\"user_id\"], labels=df_sensitive.index, autopct='%1.1f%%',\n",
    "        startangle=140, textprops={'fontsize': 14, 'weight': 'bold'})\n",
    "plt.title(\"Sensitive tweet ratio\", fontsize=16, weight='bold')\n",
    "plt.legend(df_sensitive.index, title=\"Countries\", bbox_to_anchor=(1.05, 1),\n",
    "           loc='upper left', fontsize=12)\n",
    "df_sensitive"
   ]
  }
 ],
 "metadata": {
  "kernelspec": {
   "display_name": "Python 3",
   "language": "python",
   "name": "python3"
  },
  "language_info": {
   "codemirror_mode": {
    "name": "ipython",
    "version": 3
   },
   "file_extension": ".py",
   "mimetype": "text/x-python",
   "name": "python",
   "nbconvert_exporter": "python",
   "pygments_lexer": "ipython3",
   "version": "3.12.3"
  }
 },
 "nbformat": 4,
 "nbformat_minor": 2
}
