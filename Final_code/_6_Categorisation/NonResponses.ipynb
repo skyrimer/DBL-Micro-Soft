{
 "cells": [
  {
   "cell_type": "code",
   "execution_count": 1,
   "metadata": {},
   "outputs": [
    {
     "name": "stderr",
     "output_type": "stream",
     "text": [
      "[nltk_data] Downloading package punkt to\n",
      "[nltk_data]     C:\\Users\\Chekm\\AppData\\Roaming\\nltk_data...\n",
      "[nltk_data]   Package punkt is already up-to-date!\n",
      "[nltk_data] Downloading package stopwords to\n",
      "[nltk_data]     C:\\Users\\Chekm\\AppData\\Roaming\\nltk_data...\n",
      "[nltk_data]   Package stopwords is already up-to-date!\n",
      "[nltk_data] Downloading package wordnet to\n",
      "[nltk_data]     C:\\Users\\Chekm\\AppData\\Roaming\\nltk_data...\n",
      "[nltk_data]   Package wordnet is already up-to-date!\n"
     ]
    }
   ],
   "source": [
    "import os\n",
    "import sys\n",
    "\n",
    "import joblib\n",
    "from concurrent.futures import ThreadPoolExecutor\n",
    "\n",
    "sys.path.append(os.path.join(os.path.dirname(os.getcwd()), \"_0_Constants_and_Utils\"))\n",
    "\n",
    "\n",
    "from category_utils import normalise_text\n",
    "from database_utils import (\n",
    "    form_connection_params,\n",
    "    get_dataframe_from_query,\n",
    ")"
   ]
  },
  {
   "cell_type": "code",
   "execution_count": 2,
   "metadata": {},
   "outputs": [],
   "source": [
    "local = True\n",
    "connection_params = form_connection_params(local, True)"
   ]
  },
  {
   "cell_type": "code",
   "execution_count": 3,
   "metadata": {},
   "outputs": [],
   "source": [
    "SVM_MODEL = joblib.load(\"svm_model.joblib\")\n",
    "VECTORIZER = joblib.load(\"tfidf_vectorizer.joblib\")\n",
    "ENCODER = joblib.load(\"label_encoder.joblib\")\n",
    "\n",
    "def predict_categories(batch):\n",
    "    tweet_vectors = VECTORIZER.transform(batch).toarray()\n",
    "    predicted_labels = SVM_MODEL.predict(tweet_vectors)\n",
    "    categories = ENCODER.inverse_transform(predicted_labels)\n",
    "    return categories.tolist()\n",
    "\n",
    "def get_category(df, text_column, batch_size=128, max_workers=4):\n",
    "    texts = df[text_column].tolist()\n",
    "    labels = []\n",
    "\n",
    "    with ThreadPoolExecutor(max_workers=max_workers) as executor:\n",
    "        futures = [executor.submit(predict_categories, texts[i:i + batch_size]) for i in range(0, len(texts), batch_size)]\n",
    "        for future in futures:\n",
    "            batch_labels = future.result()\n",
    "            labels.extend(batch_labels)\n",
    "\n",
    "    df[\"category\"] = labels\n",
    "    return df"
   ]
  },
  {
   "cell_type": "code",
   "execution_count": 4,
   "metadata": {},
   "outputs": [],
   "source": [
    "conversations_query = \"\"\"\n",
    "SELECT *\n",
    "FROM Tweets\n",
    "WHERE (full_text LIKE '%@Lufthansa%' OR full_text LIKE '%#Lufthansa%')\n",
    "  AND tweet_id NOT IN (SELECT tweet_id FROM Conversations)\n",
    "  AND user_id != 124476322;\n",
    "\"\"\"\n",
    "\n",
    "df_no_conversation = get_dataframe_from_query(conversations_query, connection_params, local, index_col=\"tweet_id\")"
   ]
  },
  {
   "cell_type": "code",
   "execution_count": 5,
   "metadata": {},
   "outputs": [],
   "source": [
    "df_no_conversation[\"full_text\"] = df_no_conversation[\"full_text\"].apply(normalise_text)"
   ]
  },
  {
   "cell_type": "code",
   "execution_count": 6,
   "metadata": {},
   "outputs": [],
   "source": [
    "df_with_categories = get_category(df_no_conversation, \"full_text\", 256, 10)"
   ]
  },
  {
   "cell_type": "code",
   "execution_count": 7,
   "metadata": {},
   "outputs": [],
   "source": [
    "to_save = df_with_categories.drop([\"full_text\", \"quoted_status_id\", \"replied_tweet_id\"], axis=1)\n",
    "to_save.to_csv(\"no_conversation.csv\")\n",
    "to_save.to_csv(r\"..\\_8_PerformanceEvaluation\\no_conversation.csv\")\n",
    "to_save.to_csv(r\"..\\_9_Demo\\no_conversation.csv\")"
   ]
  }
 ],
 "metadata": {
  "kernelspec": {
   "display_name": "Python 3",
   "language": "python",
   "name": "python3"
  },
  "language_info": {
   "codemirror_mode": {
    "name": "ipython",
    "version": 3
   },
   "file_extension": ".py",
   "mimetype": "text/x-python",
   "name": "python",
   "nbconvert_exporter": "python",
   "pygments_lexer": "ipython3",
   "version": "3.12.3"
  }
 },
 "nbformat": 4,
 "nbformat_minor": 2
}
